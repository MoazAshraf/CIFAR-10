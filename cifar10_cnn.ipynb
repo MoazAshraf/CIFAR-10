{
 "cells": [
  {
   "cell_type": "code",
   "execution_count": 21,
   "metadata": {},
   "outputs": [],
   "source": [
    "from tensorflow.keras.datasets import cifar10\n",
    "from tensorflow.keras.utils import to_categorical\n",
    "\n",
    "# load train and test dataset\n",
    "def load_dataset():\n",
    "    # load the dataset\n",
    "    (X_train, y_train), (X_test, y_test) = cifar10.load_data()\n",
    "\n",
    "    # one hot encode target values\n",
    "    y_train = to_categorical(y_train)\n",
    "    y_test = to_categorical(y_test)\n",
    "\n",
    "    return X_train, y_train, X_test, y_test"
   ]
  },
  {
   "cell_type": "code",
   "execution_count": 22,
   "metadata": {},
   "outputs": [],
   "source": [
    "def normalize(X_train, X_test):\n",
    "    X_train = X_train / 255.0\n",
    "    X_test = X_test / 255.0\n",
    "    return X_train, X_test"
   ]
  },
  {
   "cell_type": "code",
   "execution_count": 23,
   "metadata": {},
   "outputs": [],
   "source": [
    "import os\n",
    "import time\n",
    "\n",
    "LOG_ROOT = 'train_logs'\n",
    "\n",
    "def generate_log_dir(model_name):\n",
    "    run_id = time.strftime(f\"{model_name}_%Y_%m_%d-%H_%M_%S\")\n",
    "    return os.path.join(LOG_ROOT, run_id)"
   ]
  },
  {
   "cell_type": "code",
   "execution_count": 29,
   "metadata": {},
   "outputs": [],
   "source": [
    "# load dataset\n",
    "X_train, y_train, X_test, y_test = load_dataset()\n",
    "\n",
    "# normalize the features\n",
    "X_train, X_test = normalize(X_train, X_test)"
   ]
  },
  {
   "cell_type": "code",
   "execution_count": 24,
   "metadata": {},
   "outputs": [],
   "source": [
    "import tensorflow as tf\n",
    "\n",
    "def run_test_harness(create_model_fn, model_name):\n",
    "    # create the model\n",
    "    model = create_model_fn()\n",
    "\n",
    "    # fit the model\n",
    "    model_filepath = f\"models/{model_name}.h5\"\n",
    "\n",
    "    callbacks = []\n",
    "    callbacks.append(tf.keras.callbacks.TensorBoard(log_dir=generate_log_dir(model_name)))\n",
    "    callbacks.append(tf.keras.callbacks.ModelCheckpoint(model_filepath, save_best_only=True))\n",
    "    model.fit(X_train, y_train, epochs=100, batch_size=64, validation_data=(X_test, y_test), callbacks=callbacks)\n",
    "\n",
    "    # evaluate the model\n",
    "    _, acc = model.evaluate(X_test, y_test, verbose=0)\n",
    "    print(f\"Test Accuracy: {(acc * 100.0):.3f}\")"
   ]
  },
  {
   "cell_type": "code",
   "execution_count": 25,
   "metadata": {},
   "outputs": [],
   "source": [
    "from tensorflow.keras.models import Sequential\n",
    "from tensorflow.keras.layers import Conv2D, MaxPooling2D, Flatten, Dense\n",
    "from tensorflow.keras.optimizers import SGD\n",
    "\n",
    "# this is the baseline model with 1 VGG block\n",
    "def create_vgg_1_block_model():\n",
    "    model = Sequential()\n",
    "    model.add(Conv2D(32, (3, 3), activation='relu', kernel_initializer='he_uniform', padding='same', input_shape=(32, 32, 3)))\n",
    "    model.add(Conv2D(32, (3, 3), activation='relu', kernel_initializer='he_uniform', padding='same'))\n",
    "    model.add(MaxPooling2D((2, 2)))\n",
    "    model.add(Flatten())\n",
    "    model.add(Dense(128, activation='relu', kernel_initializer='he_uniform'))\n",
    "    model.add(Dense(10, activation='softmax'))\n",
    "\n",
    "    # compile the model\n",
    "    optimizer = SGD(lr=0.001, momentum=0.9)\n",
    "    model.compile(optimizer=optimizer, loss='categorical_crossentropy', metrics=['accuracy'])\n",
    "\n",
    "    return model"
   ]
  },
  {
   "cell_type": "code",
   "execution_count": 26,
   "metadata": {
    "tags": []
   },
   "outputs": [
    {
     "output_type": "stream",
     "name": "stdout",
     "text": "Train on 50000 samples, validate on 10000 samples\nEpoch 1/100\n50000/50000 [==============================] - 7s 136us/sample - loss: 1.7363 - accuracy: 0.3786 - val_loss: 1.5155 - val_accuracy: 0.4561\nEpoch 2/100\n50000/50000 [==============================] - 6s 124us/sample - loss: 1.4359 - accuracy: 0.4914 - val_loss: 1.3600 - val_accuracy: 0.5147\nEpoch 3/100\n50000/50000 [==============================] - 6s 123us/sample - loss: 1.2771 - accuracy: 0.5465 - val_loss: 1.2360 - val_accuracy: 0.5613\nEpoch 4/100\n50000/50000 [==============================] - 6s 124us/sample - loss: 1.1623 - accuracy: 0.5893 - val_loss: 1.1829 - val_accuracy: 0.5854\nEpoch 5/100\n50000/50000 [==============================] - 6s 121us/sample - loss: 1.0844 - accuracy: 0.6201 - val_loss: 1.1015 - val_accuracy: 0.6102\nEpoch 6/100\n50000/50000 [==============================] - 6s 120us/sample - loss: 1.0124 - accuracy: 0.6456 - val_loss: 1.1333 - val_accuracy: 0.5981\nEpoch 7/100\n50000/50000 [==============================] - 6s 124us/sample - loss: 0.9529 - accuracy: 0.6671 - val_loss: 1.0273 - val_accuracy: 0.6383\nEpoch 8/100\n50000/50000 [==============================] - 6s 122us/sample - loss: 0.8985 - accuracy: 0.6879 - val_loss: 1.0188 - val_accuracy: 0.6431\nEpoch 9/100\n50000/50000 [==============================] - 6s 126us/sample - loss: 0.8450 - accuracy: 0.7069 - val_loss: 0.9808 - val_accuracy: 0.6555\nEpoch 10/100\n50000/50000 [==============================] - 6s 123us/sample - loss: 0.8049 - accuracy: 0.7213 - val_loss: 0.9887 - val_accuracy: 0.6580\nEpoch 11/100\n50000/50000 [==============================] - 6s 125us/sample - loss: 0.7588 - accuracy: 0.7374 - val_loss: 1.0155 - val_accuracy: 0.6504\nEpoch 12/100\n50000/50000 [==============================] - 6s 129us/sample - loss: 0.7169 - accuracy: 0.7532 - val_loss: 0.9559 - val_accuracy: 0.6714\nEpoch 13/100\n50000/50000 [==============================] - 6s 127us/sample - loss: 0.6752 - accuracy: 0.7682 - val_loss: 0.9906 - val_accuracy: 0.6579\nEpoch 14/100\n50000/50000 [==============================] - 6s 124us/sample - loss: 0.6324 - accuracy: 0.7839 - val_loss: 0.9658 - val_accuracy: 0.6714\nEpoch 15/100\n50000/50000 [==============================] - 6s 128us/sample - loss: 0.5906 - accuracy: 0.8005 - val_loss: 0.9563 - val_accuracy: 0.6791\nEpoch 16/100\n50000/50000 [==============================] - 6s 128us/sample - loss: 0.5510 - accuracy: 0.8131 - val_loss: 0.9835 - val_accuracy: 0.6797\nEpoch 17/100\n50000/50000 [==============================] - 7s 133us/sample - loss: 0.5061 - accuracy: 0.8312 - val_loss: 1.0231 - val_accuracy: 0.6756\nEpoch 18/100\n50000/50000 [==============================] - 7s 131us/sample - loss: 0.4683 - accuracy: 0.8448 - val_loss: 1.0023 - val_accuracy: 0.6768\nEpoch 19/100\n50000/50000 [==============================] - 6s 127us/sample - loss: 0.4204 - accuracy: 0.8625 - val_loss: 1.0360 - val_accuracy: 0.6762\nEpoch 20/100\n50000/50000 [==============================] - 6s 129us/sample - loss: 0.3856 - accuracy: 0.8754 - val_loss: 1.0736 - val_accuracy: 0.6707\nEpoch 21/100\n50000/50000 [==============================] - 6s 130us/sample - loss: 0.3419 - accuracy: 0.8909 - val_loss: 1.0980 - val_accuracy: 0.6730\nEpoch 22/100\n50000/50000 [==============================] - 6s 127us/sample - loss: 0.3069 - accuracy: 0.9026 - val_loss: 1.1261 - val_accuracy: 0.6737\nEpoch 23/100\n50000/50000 [==============================] - 6s 127us/sample - loss: 0.2711 - accuracy: 0.9155 - val_loss: 1.1876 - val_accuracy: 0.6726\nEpoch 24/100\n50000/50000 [==============================] - 7s 130us/sample - loss: 0.2330 - accuracy: 0.9305 - val_loss: 1.2279 - val_accuracy: 0.6663\nEpoch 25/100\n50000/50000 [==============================] - 6s 129us/sample - loss: 0.2017 - accuracy: 0.9413 - val_loss: 1.3437 - val_accuracy: 0.6580\nEpoch 26/100\n50000/50000 [==============================] - 7s 130us/sample - loss: 0.1679 - accuracy: 0.9536 - val_loss: 1.4114 - val_accuracy: 0.6566\nEpoch 27/100\n50000/50000 [==============================] - 7s 132us/sample - loss: 0.1441 - accuracy: 0.9625 - val_loss: 1.3826 - val_accuracy: 0.6648\nEpoch 28/100\n50000/50000 [==============================] - 7s 133us/sample - loss: 0.1189 - accuracy: 0.9710 - val_loss: 1.4758 - val_accuracy: 0.6603\nEpoch 29/100\n50000/50000 [==============================] - 7s 133us/sample - loss: 0.0998 - accuracy: 0.9776 - val_loss: 1.4739 - val_accuracy: 0.6721\nEpoch 30/100\n50000/50000 [==============================] - 7s 132us/sample - loss: 0.0816 - accuracy: 0.9836 - val_loss: 1.5379 - val_accuracy: 0.6721\nEpoch 31/100\n50000/50000 [==============================] - 7s 135us/sample - loss: 0.0635 - accuracy: 0.9894 - val_loss: 1.6047 - val_accuracy: 0.6644\nEpoch 32/100\n50000/50000 [==============================] - 7s 134us/sample - loss: 0.0488 - accuracy: 0.9936 - val_loss: 1.6626 - val_accuracy: 0.6701\nEpoch 33/100\n50000/50000 [==============================] - 7s 135us/sample - loss: 0.0380 - accuracy: 0.9960 - val_loss: 1.7203 - val_accuracy: 0.6619\nEpoch 34/100\n50000/50000 [==============================] - 7s 138us/sample - loss: 0.0297 - accuracy: 0.9978 - val_loss: 1.7452 - val_accuracy: 0.6707\nEpoch 35/100\n50000/50000 [==============================] - 7s 138us/sample - loss: 0.0240 - accuracy: 0.9985 - val_loss: 1.7905 - val_accuracy: 0.6687\nEpoch 36/100\n50000/50000 [==============================] - 7s 138us/sample - loss: 0.0194 - accuracy: 0.9991 - val_loss: 1.8606 - val_accuracy: 0.6672\nEpoch 37/100\n50000/50000 [==============================] - 7s 136us/sample - loss: 0.0164 - accuracy: 0.9994 - val_loss: 1.8910 - val_accuracy: 0.6710\nEpoch 38/100\n50000/50000 [==============================] - 7s 138us/sample - loss: 0.0136 - accuracy: 0.9996 - val_loss: 1.9151 - val_accuracy: 0.6701\nEpoch 39/100\n50000/50000 [==============================] - 7s 139us/sample - loss: 0.0119 - accuracy: 0.9997 - val_loss: 1.9348 - val_accuracy: 0.6693\nEpoch 40/100\n50000/50000 [==============================] - 7s 142us/sample - loss: 0.0104 - accuracy: 0.9997 - val_loss: 1.9714 - val_accuracy: 0.6701\nEpoch 41/100\n50000/50000 [==============================] - 7s 142us/sample - loss: 0.0095 - accuracy: 0.9997 - val_loss: 1.9938 - val_accuracy: 0.6697\nEpoch 42/100\n50000/50000 [==============================] - 7s 142us/sample - loss: 0.0083 - accuracy: 0.9998 - val_loss: 2.0212 - val_accuracy: 0.6703\nEpoch 43/100\n50000/50000 [==============================] - 7s 143us/sample - loss: 0.0073 - accuracy: 0.9999 - val_loss: 2.0461 - val_accuracy: 0.6701\nEpoch 44/100\n50000/50000 [==============================] - 7s 143us/sample - loss: 0.0066 - accuracy: 0.9999 - val_loss: 2.0742 - val_accuracy: 0.6718\nEpoch 45/100\n50000/50000 [==============================] - 7s 145us/sample - loss: 0.0062 - accuracy: 0.9999 - val_loss: 2.0852 - val_accuracy: 0.6706\nEpoch 46/100\n50000/50000 [==============================] - 7s 143us/sample - loss: 0.0055 - accuracy: 1.0000 - val_loss: 2.1099 - val_accuracy: 0.6703\nEpoch 47/100\n50000/50000 [==============================] - 7s 142us/sample - loss: 0.0052 - accuracy: 1.0000 - val_loss: 2.1341 - val_accuracy: 0.6705\nEpoch 48/100\n50000/50000 [==============================] - 7s 150us/sample - loss: 0.0047 - accuracy: 1.0000 - val_loss: 2.1473 - val_accuracy: 0.6711\nEpoch 49/100\n50000/50000 [==============================] - 7s 149us/sample - loss: 0.0045 - accuracy: 1.0000 - val_loss: 2.1689 - val_accuracy: 0.6701\nEpoch 50/100\n50000/50000 [==============================] - 7s 150us/sample - loss: 0.0042 - accuracy: 1.0000 - val_loss: 2.1852 - val_accuracy: 0.6693\nEpoch 51/100\n50000/50000 [==============================] - 8s 150us/sample - loss: 0.0039 - accuracy: 1.0000 - val_loss: 2.2028 - val_accuracy: 0.6714\nEpoch 52/100\n50000/50000 [==============================] - 7s 148us/sample - loss: 0.0037 - accuracy: 1.0000 - val_loss: 2.2196 - val_accuracy: 0.6686\nEpoch 53/100\n50000/50000 [==============================] - 8s 150us/sample - loss: 0.0035 - accuracy: 1.0000 - val_loss: 2.2341 - val_accuracy: 0.6709\nEpoch 54/100\n50000/50000 [==============================] - 8s 150us/sample - loss: 0.0033 - accuracy: 1.0000 - val_loss: 2.2445 - val_accuracy: 0.6701\nEpoch 55/100\n50000/50000 [==============================] - 8s 152us/sample - loss: 0.0032 - accuracy: 1.0000 - val_loss: 2.2622 - val_accuracy: 0.6703\nEpoch 56/100\n50000/50000 [==============================] - 8s 151us/sample - loss: 0.0030 - accuracy: 1.0000 - val_loss: 2.2701 - val_accuracy: 0.6712\nEpoch 57/100\n50000/50000 [==============================] - 8s 154us/sample - loss: 0.0028 - accuracy: 1.0000 - val_loss: 2.2869 - val_accuracy: 0.6710\nEpoch 58/100\n50000/50000 [==============================] - 8s 151us/sample - loss: 0.0027 - accuracy: 1.0000 - val_loss: 2.2992 - val_accuracy: 0.6689\nEpoch 59/100\n50000/50000 [==============================] - 7s 144us/sample - loss: 0.0026 - accuracy: 1.0000 - val_loss: 2.3117 - val_accuracy: 0.6701\nEpoch 60/100\n50000/50000 [==============================] - 7s 145us/sample - loss: 0.0025 - accuracy: 1.0000 - val_loss: 2.3247 - val_accuracy: 0.6709\nEpoch 61/100\n50000/50000 [==============================] - 7s 150us/sample - loss: 0.0024 - accuracy: 1.0000 - val_loss: 2.3357 - val_accuracy: 0.6690\nEpoch 62/100\n50000/50000 [==============================] - 7s 150us/sample - loss: 0.0023 - accuracy: 1.0000 - val_loss: 2.3488 - val_accuracy: 0.6692\nEpoch 63/100\n50000/50000 [==============================] - 7s 150us/sample - loss: 0.0022 - accuracy: 1.0000 - val_loss: 2.3554 - val_accuracy: 0.6696\nEpoch 64/100\n50000/50000 [==============================] - 7s 149us/sample - loss: 0.0021 - accuracy: 1.0000 - val_loss: 2.3683 - val_accuracy: 0.6689\nEpoch 65/100\n50000/50000 [==============================] - 8s 152us/sample - loss: 0.0021 - accuracy: 1.0000 - val_loss: 2.3800 - val_accuracy: 0.6688\nEpoch 66/100\n50000/50000 [==============================] - 8s 153us/sample - loss: 0.0020 - accuracy: 1.0000 - val_loss: 2.3871 - val_accuracy: 0.6696\nEpoch 67/100\n50000/50000 [==============================] - 8s 152us/sample - loss: 0.0019 - accuracy: 1.0000 - val_loss: 2.3971 - val_accuracy: 0.6704\nEpoch 68/100\n50000/50000 [==============================] - 8s 156us/sample - loss: 0.0019 - accuracy: 1.0000 - val_loss: 2.4090 - val_accuracy: 0.6689\nEpoch 69/100\n50000/50000 [==============================] - 8s 154us/sample - loss: 0.0018 - accuracy: 1.0000 - val_loss: 2.4161 - val_accuracy: 0.6705\nEpoch 70/100\n50000/50000 [==============================] - 8s 164us/sample - loss: 0.0018 - accuracy: 1.0000 - val_loss: 2.4272 - val_accuracy: 0.6710\nEpoch 71/100\n50000/50000 [==============================] - 9s 176us/sample - loss: 0.0017 - accuracy: 1.0000 - val_loss: 2.4335 - val_accuracy: 0.6706\nEpoch 72/100\n50000/50000 [==============================] - 9s 179us/sample - loss: 0.0016 - accuracy: 1.0000 - val_loss: 2.4443 - val_accuracy: 0.6706\nEpoch 73/100\n50000/50000 [==============================] - 8s 158us/sample - loss: 0.0016 - accuracy: 1.0000 - val_loss: 2.4531 - val_accuracy: 0.6694\nEpoch 74/100\n50000/50000 [==============================] - 8s 163us/sample - loss: 0.0016 - accuracy: 1.0000 - val_loss: 2.4595 - val_accuracy: 0.6684\nEpoch 75/100\n50000/50000 [==============================] - 8s 163us/sample - loss: 0.0015 - accuracy: 1.0000 - val_loss: 2.4705 - val_accuracy: 0.6687\nEpoch 76/100\n50000/50000 [==============================] - 8s 162us/sample - loss: 0.0015 - accuracy: 1.0000 - val_loss: 2.4757 - val_accuracy: 0.6701\nEpoch 77/100\n50000/50000 [==============================] - 8s 164us/sample - loss: 0.0014 - accuracy: 1.0000 - val_loss: 2.4845 - val_accuracy: 0.6688\nEpoch 78/100\n50000/50000 [==============================] - 9s 170us/sample - loss: 0.0014 - accuracy: 1.0000 - val_loss: 2.4899 - val_accuracy: 0.6691\nEpoch 79/100\n50000/50000 [==============================] - 8s 167us/sample - loss: 0.0014 - accuracy: 1.0000 - val_loss: 2.4969 - val_accuracy: 0.6691\nEpoch 80/100\n50000/50000 [==============================] - 8s 168us/sample - loss: 0.0013 - accuracy: 1.0000 - val_loss: 2.5055 - val_accuracy: 0.6694\nEpoch 81/100\n50000/50000 [==============================] - 8s 167us/sample - loss: 0.0013 - accuracy: 1.0000 - val_loss: 2.5114 - val_accuracy: 0.6707\nEpoch 82/100\n50000/50000 [==============================] - 9s 175us/sample - loss: 0.0013 - accuracy: 1.0000 - val_loss: 2.5189 - val_accuracy: 0.6698\nEpoch 83/100\n50000/50000 [==============================] - 9s 177us/sample - loss: 0.0012 - accuracy: 1.0000 - val_loss: 2.5277 - val_accuracy: 0.6703\nEpoch 84/100\n50000/50000 [==============================] - 9s 171us/sample - loss: 0.0012 - accuracy: 1.0000 - val_loss: 2.5358 - val_accuracy: 0.6691\nEpoch 85/100\n50000/50000 [==============================] - 9s 182us/sample - loss: 0.0012 - accuracy: 1.0000 - val_loss: 2.5366 - val_accuracy: 0.6710\nEpoch 86/100\n50000/50000 [==============================] - 10s 192us/sample - loss: 0.0012 - accuracy: 1.0000 - val_loss: 2.5446 - val_accuracy: 0.6696\nEpoch 87/100\n50000/50000 [==============================] - 9s 176us/sample - loss: 0.0011 - accuracy: 1.0000 - val_loss: 2.5511 - val_accuracy: 0.6712\nEpoch 88/100\n50000/50000 [==============================] - 9s 187us/sample - loss: 0.0011 - accuracy: 1.0000 - val_loss: 2.5591 - val_accuracy: 0.6699\nEpoch 89/100\n50000/50000 [==============================] - 9s 174us/sample - loss: 0.0011 - accuracy: 1.0000 - val_loss: 2.5649 - val_accuracy: 0.6700\nEpoch 90/100\n50000/50000 [==============================] - 8s 166us/sample - loss: 0.0011 - accuracy: 1.0000 - val_loss: 2.5703 - val_accuracy: 0.6709\nEpoch 91/100\n50000/50000 [==============================] - 9s 172us/sample - loss: 0.0010 - accuracy: 1.0000 - val_loss: 2.5755 - val_accuracy: 0.6694\nEpoch 92/100\n50000/50000 [==============================] - 9s 178us/sample - loss: 0.0010 - accuracy: 1.0000 - val_loss: 2.5831 - val_accuracy: 0.6695\nEpoch 93/100\n50000/50000 [==============================] - 9s 172us/sample - loss: 0.0010 - accuracy: 1.0000 - val_loss: 2.5877 - val_accuracy: 0.6701\nEpoch 94/100\n50000/50000 [==============================] - 9s 180us/sample - loss: 9.8158e-04 - accuracy: 1.0000 - val_loss: 2.5922 - val_accuracy: 0.6699\nEpoch 95/100\n50000/50000 [==============================] - 9s 183us/sample - loss: 9.6241e-04 - accuracy: 1.0000 - val_loss: 2.5987 - val_accuracy: 0.6697\nEpoch 96/100\n50000/50000 [==============================] - 9s 180us/sample - loss: 9.4344e-04 - accuracy: 1.0000 - val_loss: 2.6057 - val_accuracy: 0.6689\nEpoch 97/100\n50000/50000 [==============================] - 9s 180us/sample - loss: 9.2464e-04 - accuracy: 1.0000 - val_loss: 2.6122 - val_accuracy: 0.6689\nEpoch 98/100\n50000/50000 [==============================] - 9s 182us/sample - loss: 9.1376e-04 - accuracy: 1.0000 - val_loss: 2.6151 - val_accuracy: 0.6699\nEpoch 99/100\n50000/50000 [==============================] - 9s 186us/sample - loss: 8.9167e-04 - accuracy: 1.0000 - val_loss: 2.6208 - val_accuracy: 0.6689\nEpoch 100/100\n50000/50000 [==============================] - 10s 204us/sample - loss: 8.7836e-04 - accuracy: 1.0000 - val_loss: 2.6259 - val_accuracy: 0.6698\nTest Accuracy: 66.980\n"
    }
   ],
   "source": [
    "run_test_harness(create_vgg_1_block_model, 'cifar10_vgg_1_block')"
   ]
  },
  {
   "cell_type": "code",
   "execution_count": 27,
   "metadata": {},
   "outputs": [],
   "source": [
    "# this is a model with 2 VGG blocks\n",
    "def create_vgg_2_blocks_model():\n",
    "    model = Sequential()\n",
    "    model.add(Conv2D(32, (3, 3), activation='relu', kernel_initializer='he_uniform', padding='same', input_shape=(32, 32, 3)))\n",
    "    model.add(Conv2D(32, (3, 3), activation='relu', kernel_initializer='he_uniform', padding='same'))\n",
    "    model.add(MaxPooling2D((2, 2)))\n",
    "    model.add(Conv2D(64, (3, 3), activation='relu', kernel_initializer='he_uniform', padding='same', input_shape=(32, 32, 3)))\n",
    "    model.add(Conv2D(64, (3, 3), activation='relu', kernel_initializer='he_uniform', padding='same'))\n",
    "    model.add(MaxPooling2D((2, 2)))\n",
    "    model.add(Flatten())\n",
    "    model.add(Dense(128, activation='relu', kernel_initializer='he_uniform'))\n",
    "    model.add(Dense(10, activation='softmax'))\n",
    "\n",
    "    # compile the model\n",
    "    optimizer = SGD(lr=0.001, momentum=0.9)\n",
    "    model.compile(optimizer=optimizer, loss='categorical_crossentropy', metrics=['accuracy'])\n",
    "\n",
    "    return model"
   ]
  },
  {
   "cell_type": "code",
   "execution_count": 28,
   "metadata": {
    "tags": []
   },
   "outputs": [
    {
     "output_type": "stream",
     "name": "stdout",
     "text": "Train on 50000 samples, validate on 10000 samples\nEpoch 1/100\n50000/50000 [==============================] - 9s 178us/sample - loss: 1.7070 - accuracy: 0.3856 - val_loss: 1.4890 - val_accuracy: 0.4651\nEpoch 2/100\n50000/50000 [==============================] - 8s 164us/sample - loss: 1.3627 - accuracy: 0.5142 - val_loss: 1.2998 - val_accuracy: 0.5397\nEpoch 3/100\n50000/50000 [==============================] - 8s 167us/sample - loss: 1.1916 - accuracy: 0.5815 - val_loss: 1.1345 - val_accuracy: 0.6002\nEpoch 4/100\n50000/50000 [==============================] - 9s 172us/sample - loss: 1.0638 - accuracy: 0.6278 - val_loss: 1.0852 - val_accuracy: 0.6138\nEpoch 5/100\n50000/50000 [==============================] - 9s 175us/sample - loss: 0.9683 - accuracy: 0.6632 - val_loss: 1.0327 - val_accuracy: 0.6411\nEpoch 6/100\n50000/50000 [==============================] - 9s 181us/sample - loss: 0.8998 - accuracy: 0.6867 - val_loss: 0.9654 - val_accuracy: 0.6647\nEpoch 7/100\n50000/50000 [==============================] - 9s 183us/sample - loss: 0.8448 - accuracy: 0.7086 - val_loss: 0.9318 - val_accuracy: 0.6817\nEpoch 8/100\n50000/50000 [==============================] - 10s 191us/sample - loss: 0.7852 - accuracy: 0.7259 - val_loss: 0.9153 - val_accuracy: 0.6897\nEpoch 9/100\n50000/50000 [==============================] - 10s 196us/sample - loss: 0.7312 - accuracy: 0.7460 - val_loss: 0.9086 - val_accuracy: 0.6851\nEpoch 10/100\n50000/50000 [==============================] - 10s 204us/sample - loss: 0.6865 - accuracy: 0.7625 - val_loss: 0.8929 - val_accuracy: 0.6956\nEpoch 11/100\n50000/50000 [==============================] - 10s 209us/sample - loss: 0.6407 - accuracy: 0.7787 - val_loss: 0.8977 - val_accuracy: 0.6983\nEpoch 12/100\n50000/50000 [==============================] - 11s 218us/sample - loss: 0.5979 - accuracy: 0.7936 - val_loss: 0.9218 - val_accuracy: 0.6940\nEpoch 13/100\n50000/50000 [==============================] - 12s 237us/sample - loss: 0.5485 - accuracy: 0.8108 - val_loss: 0.9031 - val_accuracy: 0.7045\nEpoch 14/100\n50000/50000 [==============================] - 12s 239us/sample - loss: 0.5082 - accuracy: 0.8263 - val_loss: 0.9205 - val_accuracy: 0.7054\nEpoch 15/100\n50000/50000 [==============================] - 13s 263us/sample - loss: 0.4642 - accuracy: 0.8394 - val_loss: 0.9187 - val_accuracy: 0.7085\nEpoch 16/100\n50000/50000 [==============================] - 14s 289us/sample - loss: 0.4238 - accuracy: 0.8544 - val_loss: 0.9441 - val_accuracy: 0.7051\nEpoch 17/100\n50000/50000 [==============================] - 15s 298us/sample - loss: 0.3766 - accuracy: 0.8709 - val_loss: 0.9863 - val_accuracy: 0.6984\nEpoch 18/100\n50000/50000 [==============================] - 16s 315us/sample - loss: 0.3380 - accuracy: 0.8841 - val_loss: 1.0392 - val_accuracy: 0.7006\nEpoch 19/100\n50000/50000 [==============================] - 16s 312us/sample - loss: 0.2964 - accuracy: 0.8999 - val_loss: 1.0707 - val_accuracy: 0.7026\nEpoch 20/100\n50000/50000 [==============================] - 18s 363us/sample - loss: 0.2561 - accuracy: 0.9128 - val_loss: 1.1574 - val_accuracy: 0.7021\nEpoch 21/100\n50000/50000 [==============================] - 14s 286us/sample - loss: 0.2203 - accuracy: 0.9245 - val_loss: 1.1952 - val_accuracy: 0.6991\nEpoch 22/100\n50000/50000 [==============================] - 14s 285us/sample - loss: 0.1939 - accuracy: 0.9348 - val_loss: 1.2746 - val_accuracy: 0.7024\nEpoch 23/100\n50000/50000 [==============================] - 13s 256us/sample - loss: 0.1599 - accuracy: 0.9470 - val_loss: 1.3170 - val_accuracy: 0.7019\nEpoch 24/100\n50000/50000 [==============================] - 14s 275us/sample - loss: 0.1319 - accuracy: 0.9565 - val_loss: 1.4052 - val_accuracy: 0.6947\nEpoch 25/100\n50000/50000 [==============================] - 14s 280us/sample - loss: 0.1026 - accuracy: 0.9684 - val_loss: 1.4691 - val_accuracy: 0.7041\nEpoch 26/100\n50000/50000 [==============================] - 13s 270us/sample - loss: 0.0911 - accuracy: 0.9716 - val_loss: 1.5623 - val_accuracy: 0.6985\nEpoch 27/100\n50000/50000 [==============================] - 13s 264us/sample - loss: 0.0604 - accuracy: 0.9829 - val_loss: 1.6564 - val_accuracy: 0.6989\nEpoch 28/100\n50000/50000 [==============================] - 14s 283us/sample - loss: 0.0481 - accuracy: 0.9875 - val_loss: 1.7444 - val_accuracy: 0.7024\nEpoch 29/100\n50000/50000 [==============================] - 15s 302us/sample - loss: 0.0365 - accuracy: 0.9909 - val_loss: 1.8040 - val_accuracy: 0.7014\nEpoch 30/100\n50000/50000 [==============================] - 13s 260us/sample - loss: 0.0277 - accuracy: 0.9940 - val_loss: 1.8622 - val_accuracy: 0.7060\nEpoch 31/100\n50000/50000 [==============================] - 15s 299us/sample - loss: 0.0193 - accuracy: 0.9963 - val_loss: 1.9205 - val_accuracy: 0.7057\nEpoch 32/100\n50000/50000 [==============================] - 15s 305us/sample - loss: 0.0091 - accuracy: 0.9993 - val_loss: 1.9885 - val_accuracy: 0.7067\nEpoch 33/100\n50000/50000 [==============================] - 14s 283us/sample - loss: 0.0048 - accuracy: 0.9998 - val_loss: 2.0874 - val_accuracy: 0.7047\nEpoch 34/100\n50000/50000 [==============================] - 14s 276us/sample - loss: 0.0036 - accuracy: 0.9998 - val_loss: 2.1591 - val_accuracy: 0.7073\nEpoch 35/100\n50000/50000 [==============================] - 15s 290us/sample - loss: 0.0030 - accuracy: 0.9999 - val_loss: 2.1714 - val_accuracy: 0.7076\nEpoch 36/100\n50000/50000 [==============================] - 14s 288us/sample - loss: 0.0020 - accuracy: 1.0000 - val_loss: 2.2227 - val_accuracy: 0.7094\nEpoch 37/100\n50000/50000 [==============================] - 14s 280us/sample - loss: 0.0017 - accuracy: 1.0000 - val_loss: 2.2507 - val_accuracy: 0.7085\nEpoch 38/100\n50000/50000 [==============================] - 14s 279us/sample - loss: 0.0015 - accuracy: 1.0000 - val_loss: 2.2882 - val_accuracy: 0.7091\nEpoch 39/100\n50000/50000 [==============================] - 15s 295us/sample - loss: 0.0014 - accuracy: 1.0000 - val_loss: 2.3139 - val_accuracy: 0.7088\nEpoch 40/100\n50000/50000 [==============================] - 15s 308us/sample - loss: 0.0013 - accuracy: 1.0000 - val_loss: 2.3403 - val_accuracy: 0.7091\nEpoch 41/100\n50000/50000 [==============================] - 13s 268us/sample - loss: 0.0012 - accuracy: 1.0000 - val_loss: 2.3579 - val_accuracy: 0.7091\nEpoch 42/100\n50000/50000 [==============================] - 14s 278us/sample - loss: 0.0011 - accuracy: 1.0000 - val_loss: 2.3836 - val_accuracy: 0.7099\nEpoch 43/100\n50000/50000 [==============================] - 14s 289us/sample - loss: 0.0010 - accuracy: 1.0000 - val_loss: 2.4069 - val_accuracy: 0.7086\nEpoch 44/100\n50000/50000 [==============================] - 14s 273us/sample - loss: 9.3874e-04 - accuracy: 1.0000 - val_loss: 2.4261 - val_accuracy: 0.7086\nEpoch 45/100\n50000/50000 [==============================] - 15s 297us/sample - loss: 8.8210e-04 - accuracy: 1.0000 - val_loss: 2.4409 - val_accuracy: 0.7086\nEpoch 46/100\n50000/50000 [==============================] - 13s 264us/sample - loss: 8.3024e-04 - accuracy: 1.0000 - val_loss: 2.4564 - val_accuracy: 0.7090\nEpoch 47/100\n50000/50000 [==============================] - 14s 286us/sample - loss: 7.8002e-04 - accuracy: 1.0000 - val_loss: 2.4743 - val_accuracy: 0.7087\nEpoch 48/100\n50000/50000 [==============================] - 13s 268us/sample - loss: 7.4307e-04 - accuracy: 1.0000 - val_loss: 2.4924 - val_accuracy: 0.7088\nEpoch 49/100\n50000/50000 [==============================] - 15s 299us/sample - loss: 7.0942e-04 - accuracy: 1.0000 - val_loss: 2.5036 - val_accuracy: 0.7087\nEpoch 50/100\n50000/50000 [==============================] - 15s 294us/sample - loss: 6.7243e-04 - accuracy: 1.0000 - val_loss: 2.5190 - val_accuracy: 0.7093\nEpoch 51/100\n50000/50000 [==============================] - 15s 295us/sample - loss: 6.4270e-04 - accuracy: 1.0000 - val_loss: 2.5327 - val_accuracy: 0.7081\nEpoch 52/100\n50000/50000 [==============================] - 11s 216us/sample - loss: 6.1486e-04 - accuracy: 1.0000 - val_loss: 2.5539 - val_accuracy: 0.7094\nEpoch 53/100\n50000/50000 [==============================] - 10s 199us/sample - loss: 5.9164e-04 - accuracy: 1.0000 - val_loss: 2.5620 - val_accuracy: 0.7085\nEpoch 54/100\n50000/50000 [==============================] - 10s 204us/sample - loss: 5.6446e-04 - accuracy: 1.0000 - val_loss: 2.5767 - val_accuracy: 0.7092\nEpoch 55/100\n50000/50000 [==============================] - 10s 203us/sample - loss: 5.4196e-04 - accuracy: 1.0000 - val_loss: 2.5880 - val_accuracy: 0.7083\nEpoch 56/100\n50000/50000 [==============================] - 10s 209us/sample - loss: 5.2407e-04 - accuracy: 1.0000 - val_loss: 2.5994 - val_accuracy: 0.7088\nEpoch 57/100\n50000/50000 [==============================] - 11s 212us/sample - loss: 5.0605e-04 - accuracy: 1.0000 - val_loss: 2.6108 - val_accuracy: 0.7097\nEpoch 58/100\n50000/50000 [==============================] - 11s 212us/sample - loss: 4.8659e-04 - accuracy: 1.0000 - val_loss: 2.6240 - val_accuracy: 0.7085\nEpoch 59/100\n50000/50000 [==============================] - 10s 194us/sample - loss: 4.6965e-04 - accuracy: 1.0000 - val_loss: 2.6334 - val_accuracy: 0.7081\nEpoch 60/100\n50000/50000 [==============================] - 10s 196us/sample - loss: 4.5305e-04 - accuracy: 1.0000 - val_loss: 2.6405 - val_accuracy: 0.7084\nEpoch 61/100\n50000/50000 [==============================] - 10s 198us/sample - loss: 4.3841e-04 - accuracy: 1.0000 - val_loss: 2.6540 - val_accuracy: 0.7086\nEpoch 62/100\n50000/50000 [==============================] - 10s 201us/sample - loss: 4.2442e-04 - accuracy: 1.0000 - val_loss: 2.6614 - val_accuracy: 0.7089\nEpoch 63/100\n50000/50000 [==============================] - 10s 196us/sample - loss: 4.1252e-04 - accuracy: 1.0000 - val_loss: 2.6717 - val_accuracy: 0.7088\nEpoch 64/100\n50000/50000 [==============================] - 10s 193us/sample - loss: 3.9908e-04 - accuracy: 1.0000 - val_loss: 2.6819 - val_accuracy: 0.7084\nEpoch 65/100\n50000/50000 [==============================] - 10s 199us/sample - loss: 3.8876e-04 - accuracy: 1.0000 - val_loss: 2.6901 - val_accuracy: 0.7081\nEpoch 66/100\n50000/50000 [==============================] - 10s 205us/sample - loss: 3.7661e-04 - accuracy: 1.0000 - val_loss: 2.6984 - val_accuracy: 0.7095\nEpoch 67/100\n50000/50000 [==============================] - 12s 235us/sample - loss: 3.6640e-04 - accuracy: 1.0000 - val_loss: 2.7070 - val_accuracy: 0.7081\nEpoch 68/100\n50000/50000 [==============================] - 10s 202us/sample - loss: 3.5742e-04 - accuracy: 1.0000 - val_loss: 2.7168 - val_accuracy: 0.7076\nEpoch 69/100\n50000/50000 [==============================] - 10s 195us/sample - loss: 3.4618e-04 - accuracy: 1.0000 - val_loss: 2.7237 - val_accuracy: 0.7085\nEpoch 70/100\n50000/50000 [==============================] - 10s 193us/sample - loss: 3.3853e-04 - accuracy: 1.0000 - val_loss: 2.7323 - val_accuracy: 0.7090\nEpoch 71/100\n50000/50000 [==============================] - 10s 193us/sample - loss: 3.3022e-04 - accuracy: 1.0000 - val_loss: 2.7401 - val_accuracy: 0.7086\nEpoch 72/100\n50000/50000 [==============================] - 10s 195us/sample - loss: 3.2196e-04 - accuracy: 1.0000 - val_loss: 2.7495 - val_accuracy: 0.7087\nEpoch 73/100\n50000/50000 [==============================] - 10s 195us/sample - loss: 3.1433e-04 - accuracy: 1.0000 - val_loss: 2.7551 - val_accuracy: 0.7086\nEpoch 74/100\n50000/50000 [==============================] - 10s 196us/sample - loss: 3.0622e-04 - accuracy: 1.0000 - val_loss: 2.7643 - val_accuracy: 0.7083\nEpoch 75/100\n50000/50000 [==============================] - 10s 198us/sample - loss: 2.9988e-04 - accuracy: 1.0000 - val_loss: 2.7705 - val_accuracy: 0.7083\nEpoch 76/100\n50000/50000 [==============================] - 10s 195us/sample - loss: 2.9276e-04 - accuracy: 1.0000 - val_loss: 2.7775 - val_accuracy: 0.7090\nEpoch 77/100\n50000/50000 [==============================] - 10s 195us/sample - loss: 2.8565e-04 - accuracy: 1.0000 - val_loss: 2.7856 - val_accuracy: 0.7089\nEpoch 78/100\n50000/50000 [==============================] - 10s 203us/sample - loss: 2.7983e-04 - accuracy: 1.0000 - val_loss: 2.7917 - val_accuracy: 0.7095\nEpoch 79/100\n50000/50000 [==============================] - 11s 212us/sample - loss: 2.7362e-04 - accuracy: 1.0000 - val_loss: 2.7981 - val_accuracy: 0.7091\nEpoch 80/100\n50000/50000 [==============================] - 10s 194us/sample - loss: 2.6826e-04 - accuracy: 1.0000 - val_loss: 2.8049 - val_accuracy: 0.7088\nEpoch 81/100\n50000/50000 [==============================] - 10s 191us/sample - loss: 2.6253e-04 - accuracy: 1.0000 - val_loss: 2.8119 - val_accuracy: 0.7091\nEpoch 82/100\n50000/50000 [==============================] - 10s 198us/sample - loss: 2.5708e-04 - accuracy: 1.0000 - val_loss: 2.8200 - val_accuracy: 0.7091\nEpoch 83/100\n50000/50000 [==============================] - 10s 207us/sample - loss: 2.5192e-04 - accuracy: 1.0000 - val_loss: 2.8232 - val_accuracy: 0.7083\nEpoch 84/100\n50000/50000 [==============================] - 10s 210us/sample - loss: 2.4687e-04 - accuracy: 1.0000 - val_loss: 2.8314 - val_accuracy: 0.7077\nEpoch 85/100\n50000/50000 [==============================] - 10s 200us/sample - loss: 2.4259e-04 - accuracy: 1.0000 - val_loss: 2.8375 - val_accuracy: 0.7087\nEpoch 86/100\n50000/50000 [==============================] - 10s 200us/sample - loss: 2.3740e-04 - accuracy: 1.0000 - val_loss: 2.8438 - val_accuracy: 0.7089\nEpoch 87/100\n50000/50000 [==============================] - 10s 197us/sample - loss: 2.3299e-04 - accuracy: 1.0000 - val_loss: 2.8503 - val_accuracy: 0.7082\nEpoch 88/100\n50000/50000 [==============================] - 10s 199us/sample - loss: 2.2908e-04 - accuracy: 1.0000 - val_loss: 2.8556 - val_accuracy: 0.7080\nEpoch 89/100\n50000/50000 [==============================] - 10s 204us/sample - loss: 2.2510e-04 - accuracy: 1.0000 - val_loss: 2.8605 - val_accuracy: 0.7083\nEpoch 90/100\n50000/50000 [==============================] - 10s 200us/sample - loss: 2.2067e-04 - accuracy: 1.0000 - val_loss: 2.8669 - val_accuracy: 0.7084\nEpoch 91/100\n50000/50000 [==============================] - 10s 202us/sample - loss: 2.1687e-04 - accuracy: 1.0000 - val_loss: 2.8739 - val_accuracy: 0.7080\nEpoch 92/100\n50000/50000 [==============================] - 10s 204us/sample - loss: 2.1336e-04 - accuracy: 1.0000 - val_loss: 2.8774 - val_accuracy: 0.7077\nEpoch 93/100\n50000/50000 [==============================] - 10s 203us/sample - loss: 2.0954e-04 - accuracy: 1.0000 - val_loss: 2.8819 - val_accuracy: 0.7083\nEpoch 94/100\n50000/50000 [==============================] - 10s 203us/sample - loss: 2.0637e-04 - accuracy: 1.0000 - val_loss: 2.8887 - val_accuracy: 0.7081\nEpoch 95/100\n50000/50000 [==============================] - 10s 207us/sample - loss: 2.0244e-04 - accuracy: 1.0000 - val_loss: 2.8932 - val_accuracy: 0.7081\nEpoch 96/100\n50000/50000 [==============================] - 10s 207us/sample - loss: 1.9931e-04 - accuracy: 1.0000 - val_loss: 2.9000 - val_accuracy: 0.7088\nEpoch 97/100\n50000/50000 [==============================] - 10s 203us/sample - loss: 1.9617e-04 - accuracy: 1.0000 - val_loss: 2.9028 - val_accuracy: 0.7083\nEpoch 98/100\n50000/50000 [==============================] - 10s 201us/sample - loss: 1.9311e-04 - accuracy: 1.0000 - val_loss: 2.9094 - val_accuracy: 0.7089\nEpoch 99/100\n50000/50000 [==============================] - 10s 203us/sample - loss: 1.8996e-04 - accuracy: 1.0000 - val_loss: 2.9145 - val_accuracy: 0.7081\nEpoch 100/100\n50000/50000 [==============================] - 10s 202us/sample - loss: 1.8736e-04 - accuracy: 1.0000 - val_loss: 2.9179 - val_accuracy: 0.7079\nTest Accuracy: 70.790\n"
    }
   ],
   "source": [
    "run_test_harness(create_vgg_2_blocks_model, 'cifar10_vgg_2_blocks')"
   ]
  }
 ],
 "metadata": {
  "language_info": {
   "codemirror_mode": {
    "name": "ipython",
    "version": 3
   },
   "file_extension": ".py",
   "mimetype": "text/x-python",
   "name": "python",
   "nbconvert_exporter": "python",
   "pygments_lexer": "ipython3",
   "version": "3.7.3-final"
  },
  "orig_nbformat": 2,
  "kernelspec": {
   "name": "python37364bit5171d068c3054b8f80dd7b7dde0249a4",
   "display_name": "Python 3.7.3 64-bit"
  }
 },
 "nbformat": 4,
 "nbformat_minor": 2
}